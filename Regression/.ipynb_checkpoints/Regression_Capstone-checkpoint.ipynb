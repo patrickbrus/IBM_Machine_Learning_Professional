{
 "cells": [
  {
   "cell_type": "code",
   "execution_count": 1,
   "id": "north-earthquake",
   "metadata": {},
   "outputs": [],
   "source": [
    "import numpy as np\n",
    "import matplotlib.pyplot as plt\n",
    "import pandas as pd\n",
    "import seaborn as sns"
   ]
  },
  {
   "cell_type": "markdown",
   "id": "renewable-agreement",
   "metadata": {},
   "source": [
    "# Load Data and Start Initial Data Analysis"
   ]
  },
  {
   "cell_type": "code",
   "execution_count": 2,
   "id": "square-progress",
   "metadata": {},
   "outputs": [
    {
     "data": {
      "text/html": [
       "<div>\n",
       "<style scoped>\n",
       "    .dataframe tbody tr th:only-of-type {\n",
       "        vertical-align: middle;\n",
       "    }\n",
       "\n",
       "    .dataframe tbody tr th {\n",
       "        vertical-align: top;\n",
       "    }\n",
       "\n",
       "    .dataframe thead th {\n",
       "        text-align: right;\n",
       "    }\n",
       "</style>\n",
       "<table border=\"1\" class=\"dataframe\">\n",
       "  <thead>\n",
       "    <tr style=\"text-align: right;\">\n",
       "      <th></th>\n",
       "      <th>Company \\n(Maker-if known)</th>\n",
       "      <th>Specific Bean Origin\\nor Bar Name</th>\n",
       "      <th>REF</th>\n",
       "      <th>Review\\nDate</th>\n",
       "      <th>Cocoa\\nPercent</th>\n",
       "      <th>Company\\nLocation</th>\n",
       "      <th>Rating</th>\n",
       "      <th>Bean\\nType</th>\n",
       "      <th>Broad Bean\\nOrigin</th>\n",
       "    </tr>\n",
       "  </thead>\n",
       "  <tbody>\n",
       "    <tr>\n",
       "      <th>0</th>\n",
       "      <td>A. Morin</td>\n",
       "      <td>Agua Grande</td>\n",
       "      <td>1876</td>\n",
       "      <td>2016</td>\n",
       "      <td>63%</td>\n",
       "      <td>France</td>\n",
       "      <td>3.75</td>\n",
       "      <td></td>\n",
       "      <td>Sao Tome</td>\n",
       "    </tr>\n",
       "    <tr>\n",
       "      <th>1</th>\n",
       "      <td>A. Morin</td>\n",
       "      <td>Kpime</td>\n",
       "      <td>1676</td>\n",
       "      <td>2015</td>\n",
       "      <td>70%</td>\n",
       "      <td>France</td>\n",
       "      <td>2.75</td>\n",
       "      <td></td>\n",
       "      <td>Togo</td>\n",
       "    </tr>\n",
       "    <tr>\n",
       "      <th>2</th>\n",
       "      <td>A. Morin</td>\n",
       "      <td>Atsane</td>\n",
       "      <td>1676</td>\n",
       "      <td>2015</td>\n",
       "      <td>70%</td>\n",
       "      <td>France</td>\n",
       "      <td>3.00</td>\n",
       "      <td></td>\n",
       "      <td>Togo</td>\n",
       "    </tr>\n",
       "    <tr>\n",
       "      <th>3</th>\n",
       "      <td>A. Morin</td>\n",
       "      <td>Akata</td>\n",
       "      <td>1680</td>\n",
       "      <td>2015</td>\n",
       "      <td>70%</td>\n",
       "      <td>France</td>\n",
       "      <td>3.50</td>\n",
       "      <td></td>\n",
       "      <td>Togo</td>\n",
       "    </tr>\n",
       "    <tr>\n",
       "      <th>4</th>\n",
       "      <td>A. Morin</td>\n",
       "      <td>Quilla</td>\n",
       "      <td>1704</td>\n",
       "      <td>2015</td>\n",
       "      <td>70%</td>\n",
       "      <td>France</td>\n",
       "      <td>3.50</td>\n",
       "      <td></td>\n",
       "      <td>Peru</td>\n",
       "    </tr>\n",
       "  </tbody>\n",
       "</table>\n",
       "</div>"
      ],
      "text/plain": [
       "  Company \\n(Maker-if known) Specific Bean Origin\\nor Bar Name   REF  \\\n",
       "0                   A. Morin                       Agua Grande  1876   \n",
       "1                   A. Morin                             Kpime  1676   \n",
       "2                   A. Morin                            Atsane  1676   \n",
       "3                   A. Morin                             Akata  1680   \n",
       "4                   A. Morin                            Quilla  1704   \n",
       "\n",
       "   Review\\nDate Cocoa\\nPercent Company\\nLocation  Rating Bean\\nType  \\\n",
       "0          2016            63%            France    3.75              \n",
       "1          2015            70%            France    2.75              \n",
       "2          2015            70%            France    3.00              \n",
       "3          2015            70%            France    3.50              \n",
       "4          2015            70%            France    3.50              \n",
       "\n",
       "  Broad Bean\\nOrigin  \n",
       "0           Sao Tome  \n",
       "1               Togo  \n",
       "2               Togo  \n",
       "3               Togo  \n",
       "4               Peru  "
      ]
     },
     "execution_count": 2,
     "metadata": {},
     "output_type": "execute_result"
    }
   ],
   "source": [
    "df = pd.read_csv(r\"data\\flavors_of_cacao.csv\")\n",
    "df.head()"
   ]
  },
  {
   "cell_type": "markdown",
   "id": "excess-shower",
   "metadata": {},
   "source": [
    "## Perform Initial Transformations of Column Names"
   ]
  },
  {
   "cell_type": "code",
   "execution_count": 13,
   "id": "peaceful-february",
   "metadata": {},
   "outputs": [],
   "source": [
    "df = df.rename(columns={df.columns[0]: \"Company\",\n",
    "                        df.columns[1]: \"Spec_Bean_Origin_or_Bar_Name\",\n",
    "                        df.columns[3]: \"Review_Date\",\n",
    "                        df.columns[4]: \"Cocoa_Percent\",\n",
    "                        df.columns[5]: \"Company_Location\",\n",
    "                        df.columns[7]: \"Bean_Type\",\n",
    "                        df.columns[8]: \"Broad_Bean_Origin\"\n",
    "                       })"
   ]
  },
  {
   "cell_type": "code",
   "execution_count": 14,
   "id": "abstract-generator",
   "metadata": {},
   "outputs": [
    {
     "data": {
      "text/html": [
       "<div>\n",
       "<style scoped>\n",
       "    .dataframe tbody tr th:only-of-type {\n",
       "        vertical-align: middle;\n",
       "    }\n",
       "\n",
       "    .dataframe tbody tr th {\n",
       "        vertical-align: top;\n",
       "    }\n",
       "\n",
       "    .dataframe thead th {\n",
       "        text-align: right;\n",
       "    }\n",
       "</style>\n",
       "<table border=\"1\" class=\"dataframe\">\n",
       "  <thead>\n",
       "    <tr style=\"text-align: right;\">\n",
       "      <th></th>\n",
       "      <th>Company</th>\n",
       "      <th>Spec_Bean_Origin_or_Bar_Name</th>\n",
       "      <th>REF</th>\n",
       "      <th>Review_Date</th>\n",
       "      <th>Cocoa_Percent</th>\n",
       "      <th>Company_Location</th>\n",
       "      <th>Rating</th>\n",
       "      <th>Bean_Type</th>\n",
       "      <th>Broad_Bean_Origin</th>\n",
       "    </tr>\n",
       "  </thead>\n",
       "  <tbody>\n",
       "    <tr>\n",
       "      <th>0</th>\n",
       "      <td>A. Morin</td>\n",
       "      <td>Agua Grande</td>\n",
       "      <td>1876</td>\n",
       "      <td>2016</td>\n",
       "      <td>63%</td>\n",
       "      <td>France</td>\n",
       "      <td>3.75</td>\n",
       "      <td></td>\n",
       "      <td>Sao Tome</td>\n",
       "    </tr>\n",
       "    <tr>\n",
       "      <th>1</th>\n",
       "      <td>A. Morin</td>\n",
       "      <td>Kpime</td>\n",
       "      <td>1676</td>\n",
       "      <td>2015</td>\n",
       "      <td>70%</td>\n",
       "      <td>France</td>\n",
       "      <td>2.75</td>\n",
       "      <td></td>\n",
       "      <td>Togo</td>\n",
       "    </tr>\n",
       "    <tr>\n",
       "      <th>2</th>\n",
       "      <td>A. Morin</td>\n",
       "      <td>Atsane</td>\n",
       "      <td>1676</td>\n",
       "      <td>2015</td>\n",
       "      <td>70%</td>\n",
       "      <td>France</td>\n",
       "      <td>3.00</td>\n",
       "      <td></td>\n",
       "      <td>Togo</td>\n",
       "    </tr>\n",
       "    <tr>\n",
       "      <th>3</th>\n",
       "      <td>A. Morin</td>\n",
       "      <td>Akata</td>\n",
       "      <td>1680</td>\n",
       "      <td>2015</td>\n",
       "      <td>70%</td>\n",
       "      <td>France</td>\n",
       "      <td>3.50</td>\n",
       "      <td></td>\n",
       "      <td>Togo</td>\n",
       "    </tr>\n",
       "    <tr>\n",
       "      <th>4</th>\n",
       "      <td>A. Morin</td>\n",
       "      <td>Quilla</td>\n",
       "      <td>1704</td>\n",
       "      <td>2015</td>\n",
       "      <td>70%</td>\n",
       "      <td>France</td>\n",
       "      <td>3.50</td>\n",
       "      <td></td>\n",
       "      <td>Peru</td>\n",
       "    </tr>\n",
       "  </tbody>\n",
       "</table>\n",
       "</div>"
      ],
      "text/plain": [
       "    Company Spec_Bean_Origin_or_Bar_Name   REF  Review_Date Cocoa_Percent  \\\n",
       "0  A. Morin                  Agua Grande  1876         2016           63%   \n",
       "1  A. Morin                        Kpime  1676         2015           70%   \n",
       "2  A. Morin                       Atsane  1676         2015           70%   \n",
       "3  A. Morin                        Akata  1680         2015           70%   \n",
       "4  A. Morin                       Quilla  1704         2015           70%   \n",
       "\n",
       "  Company_Location  Rating Bean_Type Broad_Bean_Origin  \n",
       "0           France    3.75                    Sao Tome  \n",
       "1           France    2.75                        Togo  \n",
       "2           France    3.00                        Togo  \n",
       "3           France    3.50                        Togo  \n",
       "4           France    3.50                        Peru  "
      ]
     },
     "execution_count": 14,
     "metadata": {},
     "output_type": "execute_result"
    }
   ],
   "source": [
    "df.head()"
   ]
  },
  {
   "cell_type": "markdown",
   "id": "cleared-necklace",
   "metadata": {},
   "source": [
    "## Initial Analysis"
   ]
  },
  {
   "cell_type": "code",
   "execution_count": 15,
   "id": "abstract-wesley",
   "metadata": {},
   "outputs": [
    {
     "data": {
      "text/html": [
       "<div>\n",
       "<style scoped>\n",
       "    .dataframe tbody tr th:only-of-type {\n",
       "        vertical-align: middle;\n",
       "    }\n",
       "\n",
       "    .dataframe tbody tr th {\n",
       "        vertical-align: top;\n",
       "    }\n",
       "\n",
       "    .dataframe thead th {\n",
       "        text-align: right;\n",
       "    }\n",
       "</style>\n",
       "<table border=\"1\" class=\"dataframe\">\n",
       "  <thead>\n",
       "    <tr style=\"text-align: right;\">\n",
       "      <th></th>\n",
       "      <th>REF</th>\n",
       "      <th>Review_Date</th>\n",
       "      <th>Rating</th>\n",
       "    </tr>\n",
       "  </thead>\n",
       "  <tbody>\n",
       "    <tr>\n",
       "      <th>count</th>\n",
       "      <td>1795.000000</td>\n",
       "      <td>1795.000000</td>\n",
       "      <td>1795.000000</td>\n",
       "    </tr>\n",
       "    <tr>\n",
       "      <th>mean</th>\n",
       "      <td>1035.904735</td>\n",
       "      <td>2012.325348</td>\n",
       "      <td>3.185933</td>\n",
       "    </tr>\n",
       "    <tr>\n",
       "      <th>std</th>\n",
       "      <td>552.886365</td>\n",
       "      <td>2.927210</td>\n",
       "      <td>0.478062</td>\n",
       "    </tr>\n",
       "    <tr>\n",
       "      <th>min</th>\n",
       "      <td>5.000000</td>\n",
       "      <td>2006.000000</td>\n",
       "      <td>1.000000</td>\n",
       "    </tr>\n",
       "    <tr>\n",
       "      <th>25%</th>\n",
       "      <td>576.000000</td>\n",
       "      <td>2010.000000</td>\n",
       "      <td>2.875000</td>\n",
       "    </tr>\n",
       "    <tr>\n",
       "      <th>50%</th>\n",
       "      <td>1069.000000</td>\n",
       "      <td>2013.000000</td>\n",
       "      <td>3.250000</td>\n",
       "    </tr>\n",
       "    <tr>\n",
       "      <th>75%</th>\n",
       "      <td>1502.000000</td>\n",
       "      <td>2015.000000</td>\n",
       "      <td>3.500000</td>\n",
       "    </tr>\n",
       "    <tr>\n",
       "      <th>max</th>\n",
       "      <td>1952.000000</td>\n",
       "      <td>2017.000000</td>\n",
       "      <td>5.000000</td>\n",
       "    </tr>\n",
       "  </tbody>\n",
       "</table>\n",
       "</div>"
      ],
      "text/plain": [
       "               REF  Review_Date       Rating\n",
       "count  1795.000000  1795.000000  1795.000000\n",
       "mean   1035.904735  2012.325348     3.185933\n",
       "std     552.886365     2.927210     0.478062\n",
       "min       5.000000  2006.000000     1.000000\n",
       "25%     576.000000  2010.000000     2.875000\n",
       "50%    1069.000000  2013.000000     3.250000\n",
       "75%    1502.000000  2015.000000     3.500000\n",
       "max    1952.000000  2017.000000     5.000000"
      ]
     },
     "execution_count": 15,
     "metadata": {},
     "output_type": "execute_result"
    }
   ],
   "source": [
    "# call df.describe() to get some statistics of numerical columns\n",
    "df.describe()"
   ]
  },
  {
   "cell_type": "code",
   "execution_count": 16,
   "id": "postal-surfing",
   "metadata": {},
   "outputs": [
    {
     "name": "stdout",
     "output_type": "stream",
     "text": [
      "<class 'pandas.core.frame.DataFrame'>\n",
      "Int64Index: 1795 entries, 0 to 1794\n",
      "Data columns (total 9 columns):\n",
      " #   Column                        Non-Null Count  Dtype  \n",
      "---  ------                        --------------  -----  \n",
      " 0   Company                       1795 non-null   object \n",
      " 1   Spec_Bean_Origin_or_Bar_Name  1795 non-null   object \n",
      " 2   REF                           1795 non-null   int64  \n",
      " 3   Review_Date                   1795 non-null   int64  \n",
      " 4   Cocoa_Percent                 1795 non-null   object \n",
      " 5   Company_Location              1795 non-null   object \n",
      " 6   Rating                        1795 non-null   float64\n",
      " 7   Bean_Type                     1794 non-null   object \n",
      " 8   Broad_Bean_Origin             1794 non-null   object \n",
      "dtypes: float64(1), int64(2), object(6)\n",
      "memory usage: 140.2+ KB\n"
     ]
    }
   ],
   "source": [
    "# call df.info to get data types and count of null values per column\n",
    "df.info()"
   ]
  },
  {
   "cell_type": "code",
   "execution_count": 17,
   "id": "diagnostic-james",
   "metadata": {},
   "outputs": [
    {
     "name": "stdout",
     "output_type": "stream",
     "text": [
      "Column Company contains 416 unique values. 23.175487465181057% of total data. \n",
      "\n",
      "Column Spec_Bean_Origin_or_Bar_Name contains 1039 unique values. 57.883008356545965% of total data. \n",
      "\n",
      "Column REF contains 440 unique values. 24.512534818941504% of total data. \n",
      "\n",
      "Column Review_Date contains 12 unique values. 0.6685236768802229% of total data. \n",
      "\n",
      "Column Cocoa_Percent contains 45 unique values. 2.5069637883008355% of total data. \n",
      "\n",
      "Column Company_Location contains 60 unique values. 3.3426183844011144% of total data. \n",
      "\n",
      "Column Rating contains 13 unique values. 0.724233983286908% of total data. \n",
      "\n",
      "Column Bean_Type contains 42 unique values. 2.33983286908078% of total data. \n",
      "\n",
      "Column Broad_Bean_Origin contains 101 unique values. 5.626740947075209% of total data. \n",
      "\n"
     ]
    }
   ],
   "source": [
    "# check unique values and drop columns only containing one unique value per row -> no learnings\n",
    "for column in df.columns:\n",
    "    print(f\"Column {column} contains {df[column].unique().shape[0]} unique values. { 100 * df[column].unique().shape[0] / df[column].shape[0]}% of total data. \\n\")"
   ]
  },
  {
   "cell_type": "markdown",
   "id": "awful-contemporary",
   "metadata": {},
   "source": [
    "Let's now create a list of numerical features and categorical features in order to plot histograms or value_counts to get more insights."
   ]
  },
  {
   "cell_type": "code",
   "execution_count": 29,
   "id": "split-needle",
   "metadata": {},
   "outputs": [
    {
     "data": {
      "text/html": [
       "<div>\n",
       "<style scoped>\n",
       "    .dataframe tbody tr th:only-of-type {\n",
       "        vertical-align: middle;\n",
       "    }\n",
       "\n",
       "    .dataframe tbody tr th {\n",
       "        vertical-align: top;\n",
       "    }\n",
       "\n",
       "    .dataframe thead th {\n",
       "        text-align: right;\n",
       "    }\n",
       "</style>\n",
       "<table border=\"1\" class=\"dataframe\">\n",
       "  <thead>\n",
       "    <tr style=\"text-align: right;\">\n",
       "      <th></th>\n",
       "      <th>Company</th>\n",
       "      <th>Spec_Bean_Origin_or_Bar_Name</th>\n",
       "      <th>REF</th>\n",
       "      <th>Review_Date</th>\n",
       "      <th>Cocoa_Percent</th>\n",
       "      <th>Company_Location</th>\n",
       "      <th>Rating</th>\n",
       "      <th>Bean_Type</th>\n",
       "      <th>Broad_Bean_Origin</th>\n",
       "    </tr>\n",
       "  </thead>\n",
       "  <tbody>\n",
       "    <tr>\n",
       "      <th>0</th>\n",
       "      <td>A. Morin</td>\n",
       "      <td>Agua Grande</td>\n",
       "      <td>1876</td>\n",
       "      <td>2016</td>\n",
       "      <td>63.0</td>\n",
       "      <td>France</td>\n",
       "      <td>3.75</td>\n",
       "      <td></td>\n",
       "      <td>Sao Tome</td>\n",
       "    </tr>\n",
       "    <tr>\n",
       "      <th>1</th>\n",
       "      <td>A. Morin</td>\n",
       "      <td>Kpime</td>\n",
       "      <td>1676</td>\n",
       "      <td>2015</td>\n",
       "      <td>70.0</td>\n",
       "      <td>France</td>\n",
       "      <td>2.75</td>\n",
       "      <td></td>\n",
       "      <td>Togo</td>\n",
       "    </tr>\n",
       "    <tr>\n",
       "      <th>2</th>\n",
       "      <td>A. Morin</td>\n",
       "      <td>Atsane</td>\n",
       "      <td>1676</td>\n",
       "      <td>2015</td>\n",
       "      <td>70.0</td>\n",
       "      <td>France</td>\n",
       "      <td>3.00</td>\n",
       "      <td></td>\n",
       "      <td>Togo</td>\n",
       "    </tr>\n",
       "    <tr>\n",
       "      <th>3</th>\n",
       "      <td>A. Morin</td>\n",
       "      <td>Akata</td>\n",
       "      <td>1680</td>\n",
       "      <td>2015</td>\n",
       "      <td>70.0</td>\n",
       "      <td>France</td>\n",
       "      <td>3.50</td>\n",
       "      <td></td>\n",
       "      <td>Togo</td>\n",
       "    </tr>\n",
       "    <tr>\n",
       "      <th>4</th>\n",
       "      <td>A. Morin</td>\n",
       "      <td>Quilla</td>\n",
       "      <td>1704</td>\n",
       "      <td>2015</td>\n",
       "      <td>70.0</td>\n",
       "      <td>France</td>\n",
       "      <td>3.50</td>\n",
       "      <td></td>\n",
       "      <td>Peru</td>\n",
       "    </tr>\n",
       "  </tbody>\n",
       "</table>\n",
       "</div>"
      ],
      "text/plain": [
       "    Company Spec_Bean_Origin_or_Bar_Name   REF  Review_Date  Cocoa_Percent  \\\n",
       "0  A. Morin                  Agua Grande  1876         2016           63.0   \n",
       "1  A. Morin                        Kpime  1676         2015           70.0   \n",
       "2  A. Morin                       Atsane  1676         2015           70.0   \n",
       "3  A. Morin                        Akata  1680         2015           70.0   \n",
       "4  A. Morin                       Quilla  1704         2015           70.0   \n",
       "\n",
       "  Company_Location  Rating Bean_Type Broad_Bean_Origin  \n",
       "0           France    3.75                    Sao Tome  \n",
       "1           France    2.75                        Togo  \n",
       "2           France    3.00                        Togo  \n",
       "3           France    3.50                        Togo  \n",
       "4           France    3.50                        Peru  "
      ]
     },
     "execution_count": 29,
     "metadata": {},
     "output_type": "execute_result"
    }
   ],
   "source": [
    "# before EDA: Transform Cocoa_Percent to numerical by removing the % sign\n",
    "df[\"Cocoa_Percent\"] = df[\"Cocoa_Percent\"].apply(lambda x: float(x.replace(\"%\", \"\")))\n",
    "df.head()"
   ]
  },
  {
   "cell_type": "code",
   "execution_count": 30,
   "id": "caring-cathedral",
   "metadata": {},
   "outputs": [
    {
     "data": {
      "text/plain": [
       "['Company',\n",
       " 'Spec_Bean_Origin_or_Bar_Name',\n",
       " 'Company_Location',\n",
       " 'Bean_Type',\n",
       " 'Broad_Bean_Origin']"
      ]
     },
     "execution_count": 30,
     "metadata": {},
     "output_type": "execute_result"
    }
   ],
   "source": [
    "list_categorical_cols = list(df.columns[df.dtypes == np.object])\n",
    "list_categorical_cols"
   ]
  },
  {
   "cell_type": "code",
   "execution_count": 31,
   "id": "clear-culture",
   "metadata": {},
   "outputs": [
    {
     "data": {
      "text/plain": [
       "['REF', 'Review_Date', 'Cocoa_Percent', 'Rating']"
      ]
     },
     "execution_count": 31,
     "metadata": {},
     "output_type": "execute_result"
    }
   ],
   "source": [
    "list_numerical_cols = list(df.columns[df.dtypes != np.object])\n",
    "list_numerical_cols"
   ]
  },
  {
   "cell_type": "markdown",
   "id": "tight-pharmacology",
   "metadata": {},
   "source": [
    "# Start EDA"
   ]
  },
  {
   "cell_type": "code",
   "execution_count": 33,
   "id": "tribal-hudson",
   "metadata": {},
   "outputs": [
    {
     "data": {
      "image/png": "[encoded data removed]",
      "text/plain": [
       "<Figure size 432x288 with 1 Axes>"
      ]
     },
     "metadata": {
      "needs_background": "light"
     },
     "output_type": "display_data"
    },
    {
     "data": {
      "image/png": "[encoded data removed]",
      "text/plain": [
       "<Figure size 432x288 with 1 Axes>"
      ]
     },
     "metadata": {
      "needs_background": "light"
     },
     "output_type": "display_data"
    },
    {
     "data": {
      "image/png": "[encoded data removed]",
      "text/plain": [
       "<Figure size 432x288 with 1 Axes>"
      ]
     },
     "metadata": {
      "needs_background": "light"
     },
     "output_type": "display_data"
    },
    {
     "data": {
      "image/png": "[encoded data removed]",
      "text/plain": [
       "<Figure size 432x288 with 1 Axes>"
      ]
     },
     "metadata": {
      "needs_background": "light"
     },
     "output_type": "display_data"
    }
   ],
   "source": [
    "for numerical_feat in list_numerical_cols:\n",
    "    plt.hist(df[numerical_feat])\n",
    "    plt.title(f\"Hist of {numerical_feat}\")\n",
    "    plt.show()"
   ]
  },
  {
   "cell_type": "markdown",
   "id": "south-entrance",
   "metadata": {},
   "source": [
    "The target varialbe \"Rating\" looks left skewed -> later in feature engineering: correct this <br>\n",
    "Cocoa_Percent is also little skewed -> can be corrected later"
   ]
  },
  {
   "cell_type": "code",
   "execution_count": 35,
   "id": "least-credits",
   "metadata": {},
   "outputs": [
    {
     "name": "stdout",
     "output_type": "stream",
     "text": [
      "Soma                     47\n",
      "Bonnat                   27\n",
      "Fresco                   26\n",
      "Pralus                   25\n",
      "A. Morin                 23\n",
      "                         ..\n",
      "Dulcinea                  1\n",
      "Park 75                   1\n",
      "Oakland Chocolate Co.     1\n",
      "Marigold's Finest         1\n",
      "Omanhene                  1\n",
      "Name: Company, Length: 416, dtype: int64\n",
      "Madagascar                              57\n",
      "Peru                                    45\n",
      "Ecuador                                 42\n",
      "Dominican Republic                      37\n",
      "Venezuela                               21\n",
      "                                        ..\n",
      "Sambirano, Menava P.                     1\n",
      "Indigena Amazonia, Grand Cru, Quizas     1\n",
      "Tome Acu                                 1\n",
      "Lago di Como, Blu                        1\n",
      "Amina                                    1\n",
      "Name: Spec_Bean_Origin_or_Bar_Name, Length: 1039, dtype: int64\n",
      "U.S.A.               764\n",
      "France               156\n",
      "Canada               125\n",
      "U.K.                  96\n",
      "Italy                 63\n",
      "Ecuador               54\n",
      "Australia             49\n",
      "Belgium               40\n",
      "Switzerland           38\n",
      "Germany               35\n",
      "Austria               26\n",
      "Spain                 25\n",
      "Colombia              23\n",
      "Hungary               22\n",
      "Venezuela             20\n",
      "Brazil                17\n",
      "Peru                  17\n",
      "Madagascar            17\n",
      "New Zealand           17\n",
      "Japan                 17\n",
      "Denmark               15\n",
      "Vietnam               11\n",
      "Scotland              10\n",
      "Guatemala             10\n",
      "Israel                 9\n",
      "Costa Rica             9\n",
      "Argentina              9\n",
      "Poland                 8\n",
      "Lithuania              6\n",
      "Honduras               6\n",
      "Sweden                 5\n",
      "Nicaragua              5\n",
      "South Korea            5\n",
      "Domincan Republic      5\n",
      "Puerto Rico            4\n",
      "Netherlands            4\n",
      "Mexico                 4\n",
      "Sao Tome               4\n",
      "Ireland                4\n",
      "Amsterdam              4\n",
      "Fiji                   4\n",
      "South Africa           3\n",
      "Singapore              3\n",
      "Iceland                3\n",
      "Grenada                3\n",
      "Portugal               3\n",
      "Chile                  2\n",
      "St. Lucia              2\n",
      "Bolivia                2\n",
      "Finland                2\n",
      "Czech Republic         1\n",
      "India                  1\n",
      "Ghana                  1\n",
      "Suriname               1\n",
      "Eucador                1\n",
      "Wales                  1\n",
      "Niacragua              1\n",
      "Martinique             1\n",
      "Russia                 1\n",
      "Philippines            1\n",
      "Name: Company_Location, dtype: int64\n",
      "                            887\n",
      "Trinitario                  419\n",
      "Criollo                     153\n",
      "Forastero                    87\n",
      "Forastero (Nacional)         52\n",
      "Blend                        41\n",
      "Criollo, Trinitario          39\n",
      "Forastero (Arriba)           37\n",
      "Criollo (Porcelana)          10\n",
      "Trinitario, Criollo           9\n",
      "Forastero (Parazinho)         8\n",
      "Forastero (Arriba) ASS        6\n",
      "EET                           3\n",
      "Nacional (Arriba)             3\n",
      "Matina                        3\n",
      "Beniano                       3\n",
      "Trinitario, Forastero         2\n",
      "Criollo (Ocumare 61)          2\n",
      "Criollo, Forastero            2\n",
      "Amazon, ICS                   2\n",
      "Forastero (Catongo)           2\n",
      "Amazon mix                    2\n",
      "Trinitario (85% Criollo)      2\n",
      "Criollo (Amarru)              2\n",
      "Nacional                      2\n",
      "Trinitario (Amelonado)        1\n",
      "Forastero (Arriba) ASSS       1\n",
      "Criollo (Ocumare 67)          1\n",
      "Trinitario, Nacional          1\n",
      "Criollo (Ocumare 77)          1\n",
      "Criollo, +                    1\n",
      "Forastero(Arriba, CCN)        1\n",
      "Criollo (Wild)                1\n",
      "Amazon                        1\n",
      "Trinitario (Scavina)          1\n",
      "CCN51                         1\n",
      "Blend-Forastero,Criollo       1\n",
      "Forastero, Trinitario         1\n",
      "Forastero (Amelonado)         1\n",
      "Trinitario, TCGA              1\n",
      "Criollo (Ocumare)             1\n",
      "Name: Bean_Type, dtype: int64\n",
      "Venezuela                    214\n",
      "Ecuador                      193\n",
      "Peru                         165\n",
      "Madagascar                   145\n",
      "Dominican Republic           141\n",
      "                            ... \n",
      "Peru, Ecuador, Venezuela       1\n",
      "Venezuela, Dom. Rep.           1\n",
      "Africa, Carribean, C. Am.      1\n",
      "Ghana, Panama, Ecuador         1\n",
      "Principe                       1\n",
      "Name: Broad_Bean_Origin, Length: 100, dtype: int64\n"
     ]
    }
   ],
   "source": [
    "for cat_feature in list_categorical_cols:\n",
    "    print(df[cat_feature].value_counts())"
   ]
  },
  {
   "cell_type": "code",
   "execution_count": null,
   "id": "confused-trinidad",
   "metadata": {},
   "outputs": [],
   "source": []
  }
 ],
 "metadata": {
  "kernelspec": {
   "display_name": "Python 3",
   "language": "python",
   "name": "python3"
  },
  "language_info": {
   "codemirror_mode": {
    "name": "ipython",
    "version": 3
   },
   "file_extension": ".py",
   "mimetype": "text/x-python",
   "name": "python",
   "nbconvert_exporter": "python",
   "pygments_lexer": "ipython3",
   "version": "3.7.9"
  }
 },
 "nbformat": 4,
 "nbformat_minor": 5
}
