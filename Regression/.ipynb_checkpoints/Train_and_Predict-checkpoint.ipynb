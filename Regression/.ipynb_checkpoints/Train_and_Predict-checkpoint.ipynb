{
 "cells": [
  {
   "cell_type": "code",
   "execution_count": 1,
   "id": "dedicated-allen",
   "metadata": {},
   "outputs": [],
   "source": [
    "import numpy as np\n",
    "import pandas as pd\n",
    "import matplotlib.pyplot as plt\n",
    "import seaborn as sns\n",
    "\n",
    "%matplotlib inline\n",
    "\n",
    "plt.rcParams['figure.figsize'] = (10.0, 8.0)\n",
    "sns.set_theme()"
   ]
  },
  {
   "cell_type": "markdown",
   "id": "impressed-receiver",
   "metadata": {},
   "source": [
    "## Import Data"
   ]
  },
  {
   "cell_type": "code",
   "execution_count": 2,
   "id": "random-sustainability",
   "metadata": {},
   "outputs": [],
   "source": [
    "df_train = pd.read_csv(r\"data\\train.csv\")\n",
    "df_test = pd.read_csv(r\"data\\test.csv\")"
   ]
  },
  {
   "cell_type": "code",
   "execution_count": 3,
   "id": "independent-pakistan",
   "metadata": {},
   "outputs": [
    {
     "data": {
      "text/html": [
       "<div>\n",
       "<style scoped>\n",
       "    .dataframe tbody tr th:only-of-type {\n",
       "        vertical-align: middle;\n",
       "    }\n",
       "\n",
       "    .dataframe tbody tr th {\n",
       "        vertical-align: top;\n",
       "    }\n",
       "\n",
       "    .dataframe thead th {\n",
       "        text-align: right;\n",
       "    }\n",
       "</style>\n",
       "<table border=\"1\" class=\"dataframe\">\n",
       "  <thead>\n",
       "    <tr style=\"text-align: right;\">\n",
       "      <th></th>\n",
       "      <th>REF</th>\n",
       "      <th>Review_Date</th>\n",
       "      <th>Cocoa_Percent</th>\n",
       "      <th>Rating</th>\n",
       "      <th>Criollo</th>\n",
       "      <th>Trinitario</th>\n",
       "      <th>Forsastero</th>\n",
       "      <th>Beniano</th>\n",
       "      <th>Blend</th>\n",
       "      <th>Matina</th>\n",
       "      <th>...</th>\n",
       "      <th>Company_Location_South Africa</th>\n",
       "      <th>Company_Location_South Korea</th>\n",
       "      <th>Company_Location_Spain</th>\n",
       "      <th>Company_Location_St. Lucia</th>\n",
       "      <th>Company_Location_Sweden</th>\n",
       "      <th>Company_Location_Switzerland</th>\n",
       "      <th>Company_Location_U.K.</th>\n",
       "      <th>Company_Location_U.S.A.</th>\n",
       "      <th>Company_Location_Venezuela</th>\n",
       "      <th>Company_Location_Vietnam</th>\n",
       "    </tr>\n",
       "  </thead>\n",
       "  <tbody>\n",
       "    <tr>\n",
       "      <th>0</th>\n",
       "      <td>1089</td>\n",
       "      <td>2013</td>\n",
       "      <td>4.276666</td>\n",
       "      <td>3.75</td>\n",
       "      <td>0</td>\n",
       "      <td>0</td>\n",
       "      <td>0</td>\n",
       "      <td>0</td>\n",
       "      <td>0</td>\n",
       "      <td>0</td>\n",
       "      <td>...</td>\n",
       "      <td>0</td>\n",
       "      <td>0</td>\n",
       "      <td>0</td>\n",
       "      <td>0</td>\n",
       "      <td>0</td>\n",
       "      <td>0</td>\n",
       "      <td>0</td>\n",
       "      <td>1</td>\n",
       "      <td>0</td>\n",
       "      <td>0</td>\n",
       "    </tr>\n",
       "    <tr>\n",
       "      <th>1</th>\n",
       "      <td>1756</td>\n",
       "      <td>2016</td>\n",
       "      <td>4.248495</td>\n",
       "      <td>3.50</td>\n",
       "      <td>0</td>\n",
       "      <td>1</td>\n",
       "      <td>0</td>\n",
       "      <td>0</td>\n",
       "      <td>0</td>\n",
       "      <td>0</td>\n",
       "      <td>...</td>\n",
       "      <td>0</td>\n",
       "      <td>0</td>\n",
       "      <td>0</td>\n",
       "      <td>0</td>\n",
       "      <td>0</td>\n",
       "      <td>0</td>\n",
       "      <td>0</td>\n",
       "      <td>0</td>\n",
       "      <td>0</td>\n",
       "      <td>0</td>\n",
       "    </tr>\n",
       "    <tr>\n",
       "      <th>2</th>\n",
       "      <td>1395</td>\n",
       "      <td>2014</td>\n",
       "      <td>4.248495</td>\n",
       "      <td>3.50</td>\n",
       "      <td>0</td>\n",
       "      <td>0</td>\n",
       "      <td>0</td>\n",
       "      <td>0</td>\n",
       "      <td>0</td>\n",
       "      <td>0</td>\n",
       "      <td>...</td>\n",
       "      <td>0</td>\n",
       "      <td>0</td>\n",
       "      <td>0</td>\n",
       "      <td>0</td>\n",
       "      <td>0</td>\n",
       "      <td>0</td>\n",
       "      <td>0</td>\n",
       "      <td>1</td>\n",
       "      <td>0</td>\n",
       "      <td>0</td>\n",
       "    </tr>\n",
       "    <tr>\n",
       "      <th>3</th>\n",
       "      <td>967</td>\n",
       "      <td>2012</td>\n",
       "      <td>4.248495</td>\n",
       "      <td>2.75</td>\n",
       "      <td>0</td>\n",
       "      <td>0</td>\n",
       "      <td>0</td>\n",
       "      <td>0</td>\n",
       "      <td>0</td>\n",
       "      <td>0</td>\n",
       "      <td>...</td>\n",
       "      <td>0</td>\n",
       "      <td>0</td>\n",
       "      <td>0</td>\n",
       "      <td>0</td>\n",
       "      <td>0</td>\n",
       "      <td>0</td>\n",
       "      <td>0</td>\n",
       "      <td>1</td>\n",
       "      <td>0</td>\n",
       "      <td>0</td>\n",
       "    </tr>\n",
       "    <tr>\n",
       "      <th>4</th>\n",
       "      <td>1768</td>\n",
       "      <td>2016</td>\n",
       "      <td>4.418841</td>\n",
       "      <td>3.50</td>\n",
       "      <td>0</td>\n",
       "      <td>1</td>\n",
       "      <td>0</td>\n",
       "      <td>0</td>\n",
       "      <td>0</td>\n",
       "      <td>0</td>\n",
       "      <td>...</td>\n",
       "      <td>0</td>\n",
       "      <td>0</td>\n",
       "      <td>0</td>\n",
       "      <td>0</td>\n",
       "      <td>0</td>\n",
       "      <td>0</td>\n",
       "      <td>0</td>\n",
       "      <td>0</td>\n",
       "      <td>0</td>\n",
       "      <td>0</td>\n",
       "    </tr>\n",
       "  </tbody>\n",
       "</table>\n",
       "<p>5 rows × 325 columns</p>\n",
       "</div>"
      ],
      "text/plain": [
       "    REF  Review_Date  Cocoa_Percent  Rating  Criollo  Trinitario  Forsastero  \\\n",
       "0  1089         2013       4.276666    3.75        0           0           0   \n",
       "1  1756         2016       4.248495    3.50        0           1           0   \n",
       "2  1395         2014       4.248495    3.50        0           0           0   \n",
       "3   967         2012       4.248495    2.75        0           0           0   \n",
       "4  1768         2016       4.418841    3.50        0           1           0   \n",
       "\n",
       "   Beniano  Blend  Matina  ...  Company_Location_South Africa  \\\n",
       "0        0      0       0  ...                              0   \n",
       "1        0      0       0  ...                              0   \n",
       "2        0      0       0  ...                              0   \n",
       "3        0      0       0  ...                              0   \n",
       "4        0      0       0  ...                              0   \n",
       "\n",
       "   Company_Location_South Korea  Company_Location_Spain  \\\n",
       "0                             0                       0   \n",
       "1                             0                       0   \n",
       "2                             0                       0   \n",
       "3                             0                       0   \n",
       "4                             0                       0   \n",
       "\n",
       "   Company_Location_St. Lucia  Company_Location_Sweden  \\\n",
       "0                           0                        0   \n",
       "1                           0                        0   \n",
       "2                           0                        0   \n",
       "3                           0                        0   \n",
       "4                           0                        0   \n",
       "\n",
       "   Company_Location_Switzerland  Company_Location_U.K.  \\\n",
       "0                             0                      0   \n",
       "1                             0                      0   \n",
       "2                             0                      0   \n",
       "3                             0                      0   \n",
       "4                             0                      0   \n",
       "\n",
       "   Company_Location_U.S.A.  Company_Location_Venezuela  \\\n",
       "0                        1                           0   \n",
       "1                        0                           0   \n",
       "2                        1                           0   \n",
       "3                        1                           0   \n",
       "4                        0                           0   \n",
       "\n",
       "   Company_Location_Vietnam  \n",
       "0                         0  \n",
       "1                         0  \n",
       "2                         0  \n",
       "3                         0  \n",
       "4                         0  \n",
       "\n",
       "[5 rows x 325 columns]"
      ]
     },
     "execution_count": 3,
     "metadata": {},
     "output_type": "execute_result"
    }
   ],
   "source": [
    "df_train.head()"
   ]
  },
  {
   "cell_type": "code",
   "execution_count": 4,
   "id": "accompanied-dodge",
   "metadata": {},
   "outputs": [],
   "source": [
    "X_train = df_train.drop(columns=\"Rating\")\n",
    "y_train = df_train[\"Rating\"]\n",
    "\n",
    "X_test = df_test.drop(columns=\"Rating\")\n",
    "y_test = df_test[\"Rating\"]"
   ]
  },
  {
   "cell_type": "code",
   "execution_count": 5,
   "id": "sustained-rates",
   "metadata": {},
   "outputs": [
    {
     "name": "stdout",
     "output_type": "stream",
     "text": [
      "Number of training samples: 1436\n",
      "Number of test samples: 359\n"
     ]
    }
   ],
   "source": [
    "print(f\"Number of training samples: {X_train.shape[0]}\")\n",
    "print(f\"Number of test samples: {X_test.shape[0]}\")"
   ]
  },
  {
   "cell_type": "markdown",
   "id": "valuable-bench",
   "metadata": {},
   "source": [
    "## Train Benchmark Model (Linear Regression)"
   ]
  },
  {
   "cell_type": "code",
   "execution_count": 10,
   "id": "north-anchor",
   "metadata": {},
   "outputs": [
    {
     "name": "stdout",
     "output_type": "stream",
     "text": [
      "MSE = 1.4267370043236246e+26 | R-Squared = -6.267064373130277e+26\n"
     ]
    }
   ],
   "source": [
    "from sklearn.linear_model import LinearRegression\n",
    "from sklearn.metrics import r2_score, mean_squared_error\n",
    "from sklearn.pipeline import Pipeline\n",
    "from sklearn.preprocessing import StandardScaler\n",
    "from sklearn.model_selection import cross_val_predict\n",
    "\n",
    "estimator = Pipeline([\n",
    "                    (\"scaler\", StandardScaler()), \n",
    "                    (\"regression\", LinearRegression())\n",
    "                    ])\n",
    "\n",
    "# perform cross-validation\n",
    "predictions = cross_val_predict(estimator, X_train, y_train, cv=5)\n",
    "\n",
    "# get scores training\n",
    "r2_score_train = r2_score(y_train, predictions)\n",
    "mse_train = mean_squared_error(y_train, predictions)\n",
    "\n",
    "results_dict[estimator_name] = (r2_score_train, mse_train)\n",
    "print(f\"MSE = {mse_train} | R-Squared = {r2_score_train}\")"
   ]
  },
  {
   "cell_type": "markdown",
   "id": "brutal-neutral",
   "metadata": {},
   "source": [
    "The R-Squared score is negative! That means that the normal linear regression model fits worse than a horizontal line."
   ]
  },
  {
   "cell_type": "markdown",
   "id": "manufactured-generation",
   "metadata": {},
   "source": [
    "## Train other Regression Models\n",
    "1. Ridge Regression.\n",
    "2. Decision Tree Regressor.\n",
    "3. Random Forest Regressor.\n",
    "4. Gradient Boosting Regressor."
   ]
  },
  {
   "cell_type": "code",
   "execution_count": 11,
   "id": "automatic-association",
   "metadata": {},
   "outputs": [],
   "source": [
    "from sklearn.linear_model import Ridge\n",
    "from sklearn.preprocessing import PolynomialFeatures\n",
    "from sklearn.tree import DecisionTreeRegressor\n",
    "from sklearn.ensemble import RandomForestRegressor\n",
    "from sklearn.ensemble import GradientBoostingRegressor"
   ]
  },
  {
   "cell_type": "code",
   "execution_count": 12,
   "id": "convinced-shareware",
   "metadata": {},
   "outputs": [],
   "source": [
    "estimator_ridge = Pipeline([\n",
    "                            (\"scaler\", StandardScaler()), \n",
    "                            (\"regression\", Ridge())\n",
    "                            ])\n",
    "\n",
    "estimator_decision_tree = Pipeline([\n",
    "                                    (\"scaler\", StandardScaler()), \n",
    "                                    (\"regression\", DecisionTreeRegressor())\n",
    "                                    ])\n",
    "\n",
    "estimator_random_forest = Pipeline([\n",
    "                                    (\"scaler\", StandardScaler()), \n",
    "                                    (\"regression\", RandomForestRegressor())\n",
    "                                    ])\n",
    "\n",
    "estimator_gradient_boosting = Pipeline([\n",
    "                                        (\"scaler\", StandardScaler()), \n",
    "                                        (\"regression\", GradientBoostingRegressor())\n",
    "                                        ])\n",
    "\n",
    "sklearn_estimators_dict = {\n",
    "    \"Ridge Regression\": estimator_ridge,\n",
    "    \"Decision Tree\": estimator_decision_tree,\n",
    "    \"Random Forest\": estimator_random_forest,\n",
    "    \"Gradient Boosting\": estimator_gradient_boosting\n",
    "}"
   ]
  },
  {
   "cell_type": "code",
   "execution_count": 13,
   "id": "institutional-breakdown",
   "metadata": {},
   "outputs": [
    {
     "name": "stdout",
     "output_type": "stream",
     "text": [
      "Start training Ridge Regression...\n",
      "MSE = 0.25024006036909535 | R-Squared = -0.09920087746837414\n",
      "Start training Decision Tree...\n",
      "MSE = 0.3289060082017951 | R-Squared = -0.4447477845345136\n",
      "Start training Random Forest...\n",
      "MSE = 0.19939648851705943 | R-Squared = 0.1241338624248004\n",
      "Start training Gradient Boosting...\n",
      "MSE = 0.19662124075198653 | R-Squared = 0.13632437570257394\n"
     ]
    }
   ],
   "source": [
    "results_dict = {}\n",
    "for estimator_name, estimator in sklearn_estimators_dict.items():\n",
    "    print(f\"Start training {estimator_name}...\")\n",
    "    # perform cross-validation\n",
    "    predictions = cross_val_predict(estimator, X_train, y_train, cv=5)\n",
    "\n",
    "    # get scores training\n",
    "    r2_score_train = r2_score(y_train, predictions)\n",
    "    mse_train = mean_squared_error(y_train, predictions)\n",
    "    \n",
    "    results_dict[estimator_name] = (r2_score_train, mse_train)\n",
    "    print(f\"MSE = {mse_train} | R-Squared = {r2_score_train}\")"
   ]
  },
  {
   "cell_type": "markdown",
   "id": "electronic-daniel",
   "metadata": {},
   "source": [
    "## Boost Gradient Booster \n",
    "\n",
    "Apply hyperparameter optimization on gradient booster because of the best performance in comparison to all other approaches."
   ]
  },
  {
   "cell_type": "code",
   "execution_count": 41,
   "id": "brown-decimal",
   "metadata": {},
   "outputs": [],
   "source": [
    "from sklearn.model_selection import GridSearchCV\n",
    "\n",
    "parameters = {\n",
    "    \"learning_rate\": [0.001, 0.01, 0.1, 0.5],\n",
    "    \"n_estimators\": [50, 100, 300, 500],\n",
    "    \"max_depth\": [3, 5, 10],\n",
    "    \"min_samples_split\": [2, 3, 4]\n",
    " }"
   ]
  },
  {
   "cell_type": "code",
   "execution_count": 15,
   "id": "metric-candy",
   "metadata": {},
   "outputs": [],
   "source": [
    "# scale data\n",
    "scaler = StandardScaler()\n",
    "X_train_s = scaler.fit_transform(X_train)\n",
    "X_test_s = scaler.transform(X_test)"
   ]
  },
  {
   "cell_type": "code",
   "execution_count": 43,
   "id": "regional-gates",
   "metadata": {},
   "outputs": [
    {
     "name": "stdout",
     "output_type": "stream",
     "text": [
      "Fitting 5 folds for each of 144 candidates, totalling 720 fits\n"
     ]
    },
    {
     "name": "stderr",
     "output_type": "stream",
     "text": [
      "[Parallel(n_jobs=-1)]: Using backend LokyBackend with 4 concurrent workers.\n",
      "[Parallel(n_jobs=-1)]: Done  33 tasks      | elapsed:  1.1min\n",
      "[Parallel(n_jobs=-1)]: Done 154 tasks      | elapsed:  8.1min\n",
      "[Parallel(n_jobs=-1)]: Done 357 tasks      | elapsed: 22.7min\n",
      "[Parallel(n_jobs=-1)]: Done 640 tasks      | elapsed: 43.1min\n",
      "[Parallel(n_jobs=-1)]: Done 720 out of 720 | elapsed: 49.8min finished\n"
     ]
    },
    {
     "data": {
      "text/plain": [
       "GridSearchCV(cv=5, estimator=GradientBoostingRegressor(), n_jobs=-1,\n",
       "             param_grid={'learning_rate': [0.001, 0.01, 0.1, 0.5],\n",
       "                         'max_depth': [3, 5, 10],\n",
       "                         'min_samples_split': [2, 3, 4],\n",
       "                         'n_estimators': [50, 100, 300, 500]},\n",
       "             verbose=2)"
      ]
     },
     "execution_count": 43,
     "metadata": {},
     "output_type": "execute_result"
    }
   ],
   "source": [
    "clf = GridSearchCV(GradientBoostingRegressor(), parameters, n_jobs=-1, cv=5, verbose=2)\n",
    "clf.fit(X_train_s, y_train)"
   ]
  },
  {
   "cell_type": "code",
   "execution_count": 46,
   "id": "associate-folks",
   "metadata": {},
   "outputs": [
    {
     "data": {
      "text/html": [
       "<div>\n",
       "<style scoped>\n",
       "    .dataframe tbody tr th:only-of-type {\n",
       "        vertical-align: middle;\n",
       "    }\n",
       "\n",
       "    .dataframe tbody tr th {\n",
       "        vertical-align: top;\n",
       "    }\n",
       "\n",
       "    .dataframe thead th {\n",
       "        text-align: right;\n",
       "    }\n",
       "</style>\n",
       "<table border=\"1\" class=\"dataframe\">\n",
       "  <thead>\n",
       "    <tr style=\"text-align: right;\">\n",
       "      <th></th>\n",
       "      <th>mean_fit_time</th>\n",
       "      <th>std_fit_time</th>\n",
       "      <th>mean_score_time</th>\n",
       "      <th>std_score_time</th>\n",
       "      <th>param_learning_rate</th>\n",
       "      <th>param_max_depth</th>\n",
       "      <th>param_min_samples_split</th>\n",
       "      <th>param_n_estimators</th>\n",
       "      <th>params</th>\n",
       "      <th>split0_test_score</th>\n",
       "      <th>split1_test_score</th>\n",
       "      <th>split2_test_score</th>\n",
       "      <th>split3_test_score</th>\n",
       "      <th>split4_test_score</th>\n",
       "      <th>mean_test_score</th>\n",
       "      <th>std_test_score</th>\n",
       "      <th>rank_test_score</th>\n",
       "    </tr>\n",
       "  </thead>\n",
       "  <tbody>\n",
       "    <tr>\n",
       "      <th>0</th>\n",
       "      <td>1.619669</td>\n",
       "      <td>0.028044</td>\n",
       "      <td>0.003800</td>\n",
       "      <td>0.001712</td>\n",
       "      <td>0.001</td>\n",
       "      <td>3</td>\n",
       "      <td>2</td>\n",
       "      <td>50</td>\n",
       "      <td>{'learning_rate': 0.001, 'max_depth': 3, 'min_...</td>\n",
       "      <td>0.005201</td>\n",
       "      <td>0.005676</td>\n",
       "      <td>0.010434</td>\n",
       "      <td>0.011302</td>\n",
       "      <td>0.006541</td>\n",
       "      <td>0.007831</td>\n",
       "      <td>0.002532</td>\n",
       "      <td>112</td>\n",
       "    </tr>\n",
       "    <tr>\n",
       "      <th>1</th>\n",
       "      <td>3.350736</td>\n",
       "      <td>0.136449</td>\n",
       "      <td>0.003007</td>\n",
       "      <td>0.000631</td>\n",
       "      <td>0.001</td>\n",
       "      <td>3</td>\n",
       "      <td>2</td>\n",
       "      <td>100</td>\n",
       "      <td>{'learning_rate': 0.001, 'max_depth': 3, 'min_...</td>\n",
       "      <td>0.011575</td>\n",
       "      <td>0.009343</td>\n",
       "      <td>0.025205</td>\n",
       "      <td>0.021386</td>\n",
       "      <td>0.012899</td>\n",
       "      <td>0.016082</td>\n",
       "      <td>0.006119</td>\n",
       "      <td>100</td>\n",
       "    </tr>\n",
       "    <tr>\n",
       "      <th>2</th>\n",
       "      <td>11.759319</td>\n",
       "      <td>0.413511</td>\n",
       "      <td>0.007005</td>\n",
       "      <td>0.001786</td>\n",
       "      <td>0.001</td>\n",
       "      <td>3</td>\n",
       "      <td>2</td>\n",
       "      <td>300</td>\n",
       "      <td>{'learning_rate': 0.001, 'max_depth': 3, 'min_...</td>\n",
       "      <td>0.030357</td>\n",
       "      <td>0.022805</td>\n",
       "      <td>0.070187</td>\n",
       "      <td>0.057368</td>\n",
       "      <td>0.033577</td>\n",
       "      <td>0.042859</td>\n",
       "      <td>0.017900</td>\n",
       "      <td>87</td>\n",
       "    </tr>\n",
       "    <tr>\n",
       "      <th>3</th>\n",
       "      <td>18.189714</td>\n",
       "      <td>0.336324</td>\n",
       "      <td>0.008594</td>\n",
       "      <td>0.001492</td>\n",
       "      <td>0.001</td>\n",
       "      <td>3</td>\n",
       "      <td>2</td>\n",
       "      <td>500</td>\n",
       "      <td>{'learning_rate': 0.001, 'max_depth': 3, 'min_...</td>\n",
       "      <td>0.042054</td>\n",
       "      <td>0.032326</td>\n",
       "      <td>0.102307</td>\n",
       "      <td>0.080219</td>\n",
       "      <td>0.049416</td>\n",
       "      <td>0.061264</td>\n",
       "      <td>0.026041</td>\n",
       "      <td>74</td>\n",
       "    </tr>\n",
       "    <tr>\n",
       "      <th>4</th>\n",
       "      <td>1.720254</td>\n",
       "      <td>0.042140</td>\n",
       "      <td>0.004400</td>\n",
       "      <td>0.002244</td>\n",
       "      <td>0.001</td>\n",
       "      <td>3</td>\n",
       "      <td>3</td>\n",
       "      <td>50</td>\n",
       "      <td>{'learning_rate': 0.001, 'max_depth': 3, 'min_...</td>\n",
       "      <td>0.005201</td>\n",
       "      <td>0.005676</td>\n",
       "      <td>0.010310</td>\n",
       "      <td>0.011302</td>\n",
       "      <td>0.006541</td>\n",
       "      <td>0.007806</td>\n",
       "      <td>0.002507</td>\n",
       "      <td>113</td>\n",
       "    </tr>\n",
       "  </tbody>\n",
       "</table>\n",
       "</div>"
      ],
      "text/plain": [
       "   mean_fit_time  std_fit_time  mean_score_time  std_score_time  \\\n",
       "0       1.619669      0.028044         0.003800        0.001712   \n",
       "1       3.350736      0.136449         0.003007        0.000631   \n",
       "2      11.759319      0.413511         0.007005        0.001786   \n",
       "3      18.189714      0.336324         0.008594        0.001492   \n",
       "4       1.720254      0.042140         0.004400        0.002244   \n",
       "\n",
       "  param_learning_rate param_max_depth param_min_samples_split  \\\n",
       "0               0.001               3                       2   \n",
       "1               0.001               3                       2   \n",
       "2               0.001               3                       2   \n",
       "3               0.001               3                       2   \n",
       "4               0.001               3                       3   \n",
       "\n",
       "  param_n_estimators                                             params  \\\n",
       "0                 50  {'learning_rate': 0.001, 'max_depth': 3, 'min_...   \n",
       "1                100  {'learning_rate': 0.001, 'max_depth': 3, 'min_...   \n",
       "2                300  {'learning_rate': 0.001, 'max_depth': 3, 'min_...   \n",
       "3                500  {'learning_rate': 0.001, 'max_depth': 3, 'min_...   \n",
       "4                 50  {'learning_rate': 0.001, 'max_depth': 3, 'min_...   \n",
       "\n",
       "   split0_test_score  split1_test_score  split2_test_score  split3_test_score  \\\n",
       "0           0.005201           0.005676           0.010434           0.011302   \n",
       "1           0.011575           0.009343           0.025205           0.021386   \n",
       "2           0.030357           0.022805           0.070187           0.057368   \n",
       "3           0.042054           0.032326           0.102307           0.080219   \n",
       "4           0.005201           0.005676           0.010310           0.011302   \n",
       "\n",
       "   split4_test_score  mean_test_score  std_test_score  rank_test_score  \n",
       "0           0.006541         0.007831        0.002532              112  \n",
       "1           0.012899         0.016082        0.006119              100  \n",
       "2           0.033577         0.042859        0.017900               87  \n",
       "3           0.049416         0.061264        0.026041               74  \n",
       "4           0.006541         0.007806        0.002507              113  "
      ]
     },
     "execution_count": 46,
     "metadata": {},
     "output_type": "execute_result"
    }
   ],
   "source": [
    "df_opt_results = pd.DataFrame.from_dict(clf.cv_results_)\n",
    "df_opt_results.head()"
   ]
  },
  {
   "cell_type": "code",
   "execution_count": 47,
   "id": "related-highway",
   "metadata": {},
   "outputs": [
    {
     "name": "stdout",
     "output_type": "stream",
     "text": [
      "Best Score: 0.1312062495393764\n",
      "Best Params: {'learning_rate': 0.1, 'max_depth': 3, 'min_samples_split': 4, 'n_estimators': 100}\n"
     ]
    }
   ],
   "source": [
    "final_estimator = clf.best_estimator_\n",
    "\n",
    "best_score = clf.best_score_\n",
    "print(f\"Best Score: {best_score}\")\n",
    "\n",
    "best_params = clf.best_params_\n",
    "print(f\"Best Params: {best_params}\")"
   ]
  },
  {
   "cell_type": "markdown",
   "id": "afraid-newspaper",
   "metadata": {},
   "source": [
    "## Predict on Testset"
   ]
  },
  {
   "cell_type": "code",
   "execution_count": 55,
   "id": "exempt-magazine",
   "metadata": {},
   "outputs": [
    {
     "name": "stdout",
     "output_type": "stream",
     "text": [
      "MSE on hold out test set: 0.19936072423398327\n"
     ]
    }
   ],
   "source": [
    "final_preds = np.round(final_estimator.predict(X_test_s), 2)\n",
    "\n",
    "hold_out_mse = mean_squared_error(y_test, final_preds)\n",
    "print(f\"MSE on hold out test set: {hold_out_mse}\")"
   ]
  },
  {
   "cell_type": "code",
   "execution_count": 56,
   "id": "distributed-marriage",
   "metadata": {},
   "outputs": [
    {
     "data": {
      "image/png": "[encoded data removed]",
      "text/plain": [
       "<Figure size 720x576 with 1 Axes>"
      ]
     },
     "metadata": {},
     "output_type": "display_data"
    }
   ],
   "source": [
    "plt.scatter(y_test, final_preds)\n",
    "\n",
    "plt.xlabel(\"Ground Truth\")\n",
    "plt.ylabel(\"Prediction\")\n",
    "plt.title(\"Ground Truth vs. Prediction\")\n",
    "plt.show()"
   ]
  },
  {
   "cell_type": "markdown",
   "id": "equivalent-lightning",
   "metadata": {},
   "source": [
    "## Get Feature Importances"
   ]
  },
  {
   "cell_type": "code",
   "execution_count": 30,
   "id": "floating-tactics",
   "metadata": {},
   "outputs": [
    {
     "data": {
      "image/png": "[encoded data removed]",
      "text/plain": [
       "<Figure size 720x576 with 1 Axes>"
      ]
     },
     "metadata": {},
     "output_type": "display_data"
    }
   ],
   "source": [
    "feat_importances = pd.Series(final_estimator.feature_importances_, index=X_train.columns)\n",
    "feat_importances.nlargest(10).plot(kind='barh')\n",
    "plt.title(\"Feature Importance of ten most important features.\", size=17)\n",
    "plt.show()"
   ]
  },
  {
   "cell_type": "code",
   "execution_count": null,
   "id": "circular-courtesy",
   "metadata": {},
   "outputs": [],
   "source": []
  }
 ],
 "metadata": {
  "kernelspec": {
   "display_name": "Python 3",
   "language": "python",
   "name": "python3"
  },
  "language_info": {
   "codemirror_mode": {
    "name": "ipython",
    "version": 3
   },
   "file_extension": ".py",
   "mimetype": "text/x-python",
   "name": "python",
   "nbconvert_exporter": "python",
   "pygments_lexer": "ipython3",
   "version": "3.7.9"
  }
 },
 "nbformat": 4,
 "nbformat_minor": 5
}
