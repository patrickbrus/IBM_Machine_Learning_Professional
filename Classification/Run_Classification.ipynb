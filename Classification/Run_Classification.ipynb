{
 "cells": [
  {
   "cell_type": "code",
   "execution_count": 1,
   "id": "0500e6d5",
   "metadata": {},
   "outputs": [],
   "source": [
    "import numpy as np\n",
    "import sys\n",
    "import os\n",
    "import pandas as pd\n",
    "import seaborn as sns\n",
    "import matplotlib.pyplot as plt\n",
    "\n",
    "%matplotlib inline"
   ]
  },
  {
   "cell_type": "markdown",
   "id": "0830f656",
   "metadata": {},
   "source": [
    "# Load the Data"
   ]
  },
  {
   "cell_type": "code",
   "execution_count": 2,
   "id": "fe4a9619",
   "metadata": {},
   "outputs": [],
   "source": [
    "# the mean imputed data\n",
    "df_train_mean = pd.read_csv(r\"data\\training_mean_imputed.csv\")\n",
    "df_test_mean = pd.read_csv(r\"data\\test_mean_imputed.csv\")\n",
    "\n",
    "# the iterative imputed data\n",
    "df_train_iter = pd.read_csv(r\"data\\training_iter_imputed.csv\")\n",
    "df_test_iter = pd.read_csv(r\"data\\test_iter_imputed.csv\")"
   ]
  },
  {
   "cell_type": "code",
   "execution_count": 3,
   "id": "61840c90",
   "metadata": {},
   "outputs": [],
   "source": [
    "X_train_mean = df_train_mean.drop(columns=\"Potability\")\n",
    "y_train_mean = df_train_mean[\"Potability\"]\n",
    "\n",
    "X_test_mean = df_test_mean.drop(columns=\"Potability\")\n",
    "y_test_mean = df_test_mean[\"Potability\"]\n",
    "\n",
    "X_train_iter = df_train_iter.drop(columns=\"Potability\")\n",
    "y_train_iter = df_train_iter[\"Potability\"]\n",
    "\n",
    "X_test_iter = df_test_iter.drop(columns=\"Potability\")\n",
    "y_test_iter = df_test_iter[\"Potability\"]"
   ]
  },
  {
   "cell_type": "markdown",
   "id": "d5a008df",
   "metadata": {},
   "source": [
    "## Train Baseline Model"
   ]
  },
  {
   "cell_type": "code",
   "execution_count": 4,
   "id": "1cca8b6b",
   "metadata": {},
   "outputs": [],
   "source": [
    "from sklearn.metrics import accuracy_score\n",
    "from sklearn.metrics import f1_score\n",
    "from sklearn.metrics import precision_score\n",
    "from sklearn.metrics import recall_score\n",
    "from sklearn.metrics import confusion_matrix"
   ]
  },
  {
   "cell_type": "code",
   "execution_count": 5,
   "id": "c1a31745",
   "metadata": {},
   "outputs": [
    {
     "name": "stdout",
     "output_type": "stream",
     "text": [
      "Test Acc: 0.6265243902439024\n",
      "Test F1-Score: 0.0\n",
      "Test Precision: 0.0\n",
      "Test Recall: 0.0\n"
     ]
    },
    {
     "name": "stderr",
     "output_type": "stream",
     "text": [
      "C:\\Users\\brusp\\.conda\\envs\\ml\\lib\\site-packages\\sklearn\\metrics\\_classification.py:1248: UndefinedMetricWarning: Precision is ill-defined and being set to 0.0 due to no predicted samples. Use `zero_division` parameter to control this behavior.\n",
      "  _warn_prf(average, modifier, msg_start, len(result))\n"
     ]
    }
   ],
   "source": [
    "# Train the logistic regression model and use this as baseline for comparison\n",
    "from sklearn.linear_model import LogisticRegression\n",
    "\n",
    "log_model_mean = LogisticRegression()\n",
    "log_model_mean.fit(X_train_mean, y_train_mean)\n",
    "\n",
    "preds_mean = log_model_mean.predict(X_test_mean)\n",
    "print(f\"Test Acc: {accuracy_score(y_test_mean, preds_mean)}\")\n",
    "print(f\"Test F1-Score: {f1_score(y_test_mean, preds_mean)}\")\n",
    "print(f\"Test Precision: {precision_score(y_test_mean, preds_mean)}\")\n",
    "print(f\"Test Recall: {recall_score(y_test_mean, preds_mean)}\")"
   ]
  },
  {
   "cell_type": "code",
   "execution_count": 6,
   "id": "94c50f66",
   "metadata": {},
   "outputs": [
    {
     "name": "stdout",
     "output_type": "stream",
     "text": [
      "Test Acc: 0.6265243902439024\n",
      "Test F1-Score: 0.0\n",
      "Test Precision: 0.0\n",
      "Test Recall: 0.0\n"
     ]
    },
    {
     "name": "stderr",
     "output_type": "stream",
     "text": [
      "C:\\Users\\brusp\\.conda\\envs\\ml\\lib\\site-packages\\sklearn\\metrics\\_classification.py:1248: UndefinedMetricWarning: Precision is ill-defined and being set to 0.0 due to no predicted samples. Use `zero_division` parameter to control this behavior.\n",
      "  _warn_prf(average, modifier, msg_start, len(result))\n"
     ]
    }
   ],
   "source": [
    "# Train the logistic regression model and use this as baseline for comparison\n",
    "from sklearn.linear_model import LogisticRegression\n",
    "\n",
    "log_model_iter = LogisticRegression()\n",
    "log_model_iter.fit(X_train_iter, y_train_iter)\n",
    "\n",
    "preds_iter = log_model_iter.predict(X_test_iter)\n",
    "print(f\"Test Acc: {accuracy_score(y_test_iter, preds_iter)}\")\n",
    "print(f\"Test F1-Score: {f1_score(y_test_iter, preds_iter)}\")\n",
    "print(f\"Test Precision: {precision_score(y_test_iter, preds_iter)}\")\n",
    "print(f\"Test Recall: {recall_score(y_test_iter, preds_iter)}\")"
   ]
  },
  {
   "cell_type": "markdown",
   "id": "db76c5e2",
   "metadata": {},
   "source": [
    "## Train Other Models"
   ]
  },
  {
   "cell_type": "code",
   "execution_count": 30,
   "id": "9d3d9dbb",
   "metadata": {},
   "outputs": [],
   "source": [
    "from sklearn.tree import DecisionTreeClassifier\n",
    "from sklearn.svm import SVC\n",
    "from sklearn.neighbors import KNeighborsClassifier\n",
    "from sklearn.ensemble import RandomForestClassifier\n",
    "from sklearn.ensemble import AdaBoostClassifier\n",
    "from sklearn.model_selection import cross_val_predict"
   ]
  },
  {
   "cell_type": "code",
   "execution_count": 31,
   "id": "42b5836e",
   "metadata": {},
   "outputs": [],
   "source": [
    "dict_models = {\n",
    "    \"Decision Tree\": DecisionTreeClassifier(),\n",
    "    \"SVM\": SVC(),\n",
    "    \"Nearest Neighbor\": KNeighborsClassifier(),\n",
    "    \"Random Forest\": RandomForestClassifier(),\n",
    "    \"Ada Boost\": AdaBoostClassifier()\n",
    "}"
   ]
  },
  {
   "cell_type": "code",
   "execution_count": 32,
   "id": "391e564e",
   "metadata": {},
   "outputs": [
    {
     "name": "stdout",
     "output_type": "stream",
     "text": [
      "Start training Decision Tree...\n",
      "F1-Score: 0.4845898530109056\n",
      "Precision: 0.474907063197026\n",
      "Recall: 0.494675701839303\n",
      "\n",
      "\n",
      "\n",
      "Start training SVM...\n",
      "F1-Score: 0.4114832535885168\n",
      "Precision: 0.7\n",
      "Recall: 0.29138431752178123\n",
      "\n",
      "\n",
      "\n",
      "Start training Nearest Neighbor...\n",
      "F1-Score: 0.44189852700491\n",
      "Precision: 0.50625\n",
      "Recall: 0.3920619554695063\n",
      "\n",
      "\n",
      "\n",
      "Start training Random Forest...\n",
      "F1-Score: 0.4395742016280526\n",
      "Precision: 0.6223404255319149\n",
      "Recall: 0.33978702807357214\n",
      "\n",
      "\n",
      "\n",
      "Start training Ada Boost...\n",
      "F1-Score: 0.2874659400544959\n",
      "Precision: 0.4850574712643678\n",
      "Recall: 0.2042594385285576\n",
      "\n",
      "\n",
      "\n"
     ]
    }
   ],
   "source": [
    "results_dict = {}\n",
    "for model_name, model in dict_models.items():\n",
    "    print(f\"Start training {model_name}...\")\n",
    "    preds = cross_val_predict(model, X_train_mean, y_train_mean, cv=5)\n",
    "    \n",
    "    f1 = f1_score(y_train_mean, preds)\n",
    "    precision = precision_score(y_train_mean, preds)\n",
    "    recall = recall_score(y_train_mean, preds)\n",
    "\n",
    "    print(f\"F1-Score: {f1}\")\n",
    "    print(f\"Precision: {precision}\")\n",
    "    print(f\"Recall: {recall}\")\n",
    "    print(\"\\n\\n\")\n",
    "    results_dict[model_name] = (f1, precision, recall)"
   ]
  },
  {
   "cell_type": "code",
   "execution_count": 33,
   "id": "9bf30b87",
   "metadata": {},
   "outputs": [
    {
     "data": {
      "text/html": [
       "<div>\n",
       "<style scoped>\n",
       "    .dataframe tbody tr th:only-of-type {\n",
       "        vertical-align: middle;\n",
       "    }\n",
       "\n",
       "    .dataframe tbody tr th {\n",
       "        vertical-align: top;\n",
       "    }\n",
       "\n",
       "    .dataframe thead th {\n",
       "        text-align: right;\n",
       "    }\n",
       "</style>\n",
       "<table border=\"1\" class=\"dataframe\">\n",
       "  <thead>\n",
       "    <tr style=\"text-align: right;\">\n",
       "      <th></th>\n",
       "      <th>F1-Score</th>\n",
       "      <th>Precision</th>\n",
       "      <th>Recall</th>\n",
       "    </tr>\n",
       "  </thead>\n",
       "  <tbody>\n",
       "    <tr>\n",
       "      <th>Decision Tree</th>\n",
       "      <td>0.484590</td>\n",
       "      <td>0.474907</td>\n",
       "      <td>0.494676</td>\n",
       "    </tr>\n",
       "    <tr>\n",
       "      <th>Nearest Neighbor</th>\n",
       "      <td>0.441899</td>\n",
       "      <td>0.506250</td>\n",
       "      <td>0.392062</td>\n",
       "    </tr>\n",
       "    <tr>\n",
       "      <th>Random Forest</th>\n",
       "      <td>0.439574</td>\n",
       "      <td>0.622340</td>\n",
       "      <td>0.339787</td>\n",
       "    </tr>\n",
       "    <tr>\n",
       "      <th>SVM</th>\n",
       "      <td>0.411483</td>\n",
       "      <td>0.700000</td>\n",
       "      <td>0.291384</td>\n",
       "    </tr>\n",
       "    <tr>\n",
       "      <th>Ada Boost</th>\n",
       "      <td>0.287466</td>\n",
       "      <td>0.485057</td>\n",
       "      <td>0.204259</td>\n",
       "    </tr>\n",
       "  </tbody>\n",
       "</table>\n",
       "</div>"
      ],
      "text/plain": [
       "                  F1-Score  Precision    Recall\n",
       "Decision Tree     0.484590   0.474907  0.494676\n",
       "Nearest Neighbor  0.441899   0.506250  0.392062\n",
       "Random Forest     0.439574   0.622340  0.339787\n",
       "SVM               0.411483   0.700000  0.291384\n",
       "Ada Boost         0.287466   0.485057  0.204259"
      ]
     },
     "execution_count": 33,
     "metadata": {},
     "output_type": "execute_result"
    }
   ],
   "source": [
    "df_results = (pd.DataFrame.from_dict(results_dict, orient=\"index\", columns=[\"F1-Score\", \"Precision\", \"Recall\"])\n",
    "             .sort_values(by=\"F1-Score\", ascending=False))\n",
    "df_results"
   ]
  },
  {
   "cell_type": "markdown",
   "id": "cd3da263",
   "metadata": {},
   "source": [
    "For the sake of easy interpretation, the following models shall be examined further by applying hyper-parameter optimization on them: \n",
    "1. Decision Tree\n",
    "2. Random Forest"
   ]
  },
  {
   "cell_type": "markdown",
   "id": "a0a25a0b",
   "metadata": {},
   "source": [
    "## Optimize Final Candidates"
   ]
  },
  {
   "cell_type": "code",
   "execution_count": 14,
   "id": "2a7f1bd7",
   "metadata": {},
   "outputs": [
    {
     "name": "stdout",
     "output_type": "stream",
     "text": [
      "Fitting 5 folds for each of 48 candidates, totalling 240 fits\n"
     ]
    },
    {
     "data": {
      "text/plain": [
       "GridSearchCV(cv=5, estimator=DecisionTreeClassifier(),\n",
       "             param_grid={'class_weight': [None, 'balanced'],\n",
       "                         'criterion': ['gini', 'entropy'],\n",
       "                         'max_depth': [4, 5, 10, None],\n",
       "                         'min_samples_split': [2, 4, 6]},\n",
       "             scoring='f1', verbose=1)"
      ]
     },
     "execution_count": 14,
     "metadata": {},
     "output_type": "execute_result"
    }
   ],
   "source": [
    "from sklearn.model_selection import GridSearchCV\n",
    "\n",
    "params_decision_tree = {\n",
    "    \"criterion\" : [\"gini\", \"entropy\"],\n",
    "    \"max_depth\" : [4, 5, 10, None],\n",
    "    \"min_samples_split\": [2, 4, 6],\n",
    "    \"class_weight\": [None, \"balanced\"]\n",
    "}\n",
    "\n",
    "clf_decision_tree = GridSearchCV(DecisionTreeClassifier(), params_decision_tree, scoring=\"f1\", cv=5, verbose=1)\n",
    "clf_decision_tree.fit(X_train_mean, y_train_mean)"
   ]
  },
  {
   "cell_type": "code",
   "execution_count": 18,
   "id": "8aa0f884",
   "metadata": {},
   "outputs": [
    {
     "name": "stdout",
     "output_type": "stream",
     "text": [
      "Best f1-score: 0.48602147815854246\n",
      "Best parameters: {'class_weight': 'balanced', 'criterion': 'gini', 'max_depth': None, 'min_samples_split': 4}\n"
     ]
    }
   ],
   "source": [
    "print(f\"Best f1-score: {clf_decision_tree.best_score_}\")\n",
    "print(f\"Best parameters: {clf_decision_tree.best_params_}\")\n",
    "best_decision_tree_model = clf_decision_tree.best_estimator_"
   ]
  },
  {
   "cell_type": "code",
   "execution_count": 19,
   "id": "de310c94",
   "metadata": {},
   "outputs": [
    {
     "name": "stdout",
     "output_type": "stream",
     "text": [
      "Fitting 5 folds for each of 720 candidates, totalling 3600 fits\n"
     ]
    },
    {
     "data": {
      "text/plain": [
       "GridSearchCV(cv=5, estimator=RandomForestClassifier(),\n",
       "             param_grid={'bootstrap': [True, False],\n",
       "                         'class_weight': [None, 'balanced',\n",
       "                                          'balanced_subsample'],\n",
       "                         'criterion': ['gini', 'entropy'],\n",
       "                         'max_depth': [4, 5, 10, None],\n",
       "                         'min_samples_split': [2, 4, 6],\n",
       "                         'n_estimators': [10, 20, 50, 100, 150]},\n",
       "             scoring='f1', verbose=1)"
      ]
     },
     "execution_count": 19,
     "metadata": {},
     "output_type": "execute_result"
    }
   ],
   "source": [
    "params_random_forest = {\n",
    "    \"n_estimators\" : [10, 20, 50, 100, 150],\n",
    "    \"criterion\" : [\"gini\", \"entropy\"],\n",
    "    \"max_depth\" : [4, 5, 10, None],\n",
    "    \"min_samples_split\": [2, 4, 6],\n",
    "    \"class_weight\": [None, \"balanced\", \"balanced_subsample\"],\n",
    "    \"bootstrap\": [True, False],\n",
    "    \n",
    "}\n",
    "\n",
    "clf_random_forest = GridSearchCV(RandomForestClassifier(), params_random_forest, scoring=\"f1\", cv=5, verbose=1)\n",
    "clf_random_forest.fit(X_train_mean, y_train_mean)"
   ]
  },
  {
   "cell_type": "code",
   "execution_count": 20,
   "id": "57c3475c",
   "metadata": {},
   "outputs": [
    {
     "name": "stdout",
     "output_type": "stream",
     "text": [
      "Best f1-score: 0.5097757401266291\n",
      "Best parameters: {'bootstrap': False, 'class_weight': 'balanced_subsample', 'criterion': 'entropy', 'max_depth': 10, 'min_samples_split': 4, 'n_estimators': 50}\n"
     ]
    }
   ],
   "source": [
    "print(f\"Best f1-score: {clf_random_forest.best_score_}\")\n",
    "print(f\"Best parameters: {clf_random_forest.best_params_}\")\n",
    "best_random_forest_model = clf_random_forest.best_estimator_"
   ]
  },
  {
   "cell_type": "markdown",
   "id": "121ae55b",
   "metadata": {},
   "source": [
    "Done. The random forest achieves the best f1-score. But in general, the f1-score is still very low. In future, it would be required to have better data where the correlation of the features on the target are larger. Maybe also a larger data set would help. But for this analysis, the achieved score is sufficient."
   ]
  },
  {
   "cell_type": "markdown",
   "id": "82fe2b6a",
   "metadata": {},
   "source": [
    "## Evaluate Final Model on Test set"
   ]
  },
  {
   "cell_type": "code",
   "execution_count": 34,
   "id": "12018777",
   "metadata": {},
   "outputs": [
    {
     "name": "stdout",
     "output_type": "stream",
     "text": [
      "F1-Score: 0.5054466230936818\n",
      "Precision: 0.5420560747663551\n",
      "Recall: 0.47346938775510206\n"
     ]
    }
   ],
   "source": [
    "final_preds = best_random_forest_model.predict(X_test_mean)\n",
    "\n",
    "f1 = f1_score(y_test_mean, final_preds)\n",
    "precision = precision_score(y_test_mean, final_preds)\n",
    "recall = recall_score(y_test_mean, final_preds)\n",
    "\n",
    "print(f\"F1-Score: {f1}\")\n",
    "print(f\"Precision: {precision}\")\n",
    "print(f\"Recall: {recall}\")"
   ]
  },
  {
   "cell_type": "markdown",
   "id": "ae2e3852",
   "metadata": {},
   "source": [
    "## Feature Importance"
   ]
  },
  {
   "cell_type": "code",
   "execution_count": 24,
   "id": "537845c4",
   "metadata": {},
   "outputs": [
    {
     "data": {
      "image/png": "[encoded data removed]",
      "text/plain": [
       "<Figure size 720x576 with 1 Axes>"
      ]
     },
     "metadata": {
      "needs_background": "light"
     },
     "output_type": "display_data"
    }
   ],
   "source": [
    "fig = plt.figure(figsize=(10, 8))\n",
    "feat_importances = pd.Series(best_random_forest_model.feature_importances_, index=X_train_mean.columns)\n",
    "feat_importances.nlargest(9).plot(kind='barh')\n",
    "plt.title(\"Feature Importance of features.\", size=17)\n",
    "plt.show()"
   ]
  },
  {
   "cell_type": "code",
   "execution_count": null,
   "id": "19f45025",
   "metadata": {},
   "outputs": [],
   "source": []
  }
 ],
 "metadata": {
  "kernelspec": {
   "display_name": "Python 3",
   "language": "python",
   "name": "python3"
  },
  "language_info": {
   "codemirror_mode": {
    "name": "ipython",
    "version": 3
   },
   "file_extension": ".py",
   "mimetype": "text/x-python",
   "name": "python",
   "nbconvert_exporter": "python",
   "pygments_lexer": "ipython3",
   "version": "3.9.5"
  }
 },
 "nbformat": 4,
 "nbformat_minor": 5
}
